{
 "cells": [
  {
   "cell_type": "code",
   "execution_count": 1,
   "metadata": {
    "collapsed": true
   },
   "outputs": [],
   "source": [
    "import numpy as np"
   ]
  },
  {
   "cell_type": "code",
   "execution_count": 18,
   "metadata": {
    "collapsed": true
   },
   "outputs": [],
   "source": [
    "class ProbMat:\n",
    "    \"\"\"Storing and managing probability matrices.\"\"\"\n",
    "\n",
    "    # init a probability matrix - create the matrix itself\n",
    "    def __init__(self, x = 5, y = 8):\n",
    "        \"\"\" Init a matrix with the given dimensions. \"\"\"\n",
    "\n",
    "        self.matrix = [[0.0 for col in range(x+2)] for row in range(y)]\n",
    "        for i in range(2,len(self.matrix)):\n",
    "            for j in range(1,len(self.matrix[i])-1):\n",
    "                self.matrix[i][j] = 1.0/x\n",
    "        self.matrix[0][(x+2)/2] = 1.0\n",
    "        for i in range((x+2)/2-1, (x+2)/2+2, 1):\n",
    "            self.matrix[1][i] = 0.3\n",
    "\n",
    "\n",
    "    # reset a probability matrix to the initial state\n",
    "    def __call__(self, x = 5, y = 8):\n",
    "        \"\"\" Reset a matrix with the given dimensions to the initial state. \"\"\"\n",
    "\n",
    "        self.matrix = [[0.0 for col in range(x+2)] for row in range(y)]\n",
    "        for i in range(2,len(self.matrix)):\n",
    "            for j in range(1,len(self.matrix[i])-1):\n",
    "                self.matrix[i][j] = 1.0/x\n",
    "        self.matrix[0][(x+2)/2] = 1.0\n",
    "        for i in range((x+2)/2-1, (x+2)/2+2, 1):\n",
    "            self.matrix[1][i] = 0.3\n",
    "\n",
    "\n",
    "# setters, getters\n",
    "\n",
    "    # get the matrix\n",
    "    def getMatrix(self):\n",
    "        return self.matrix\n",
    "\n",
    "    # set the matrix to a specified matrix - NOT CHECKING!!!\n",
    "    def setMatrix(self, preset_matrix):\n",
    "        self.matrix = preset_matrix[:]\n",
    "\n",
    "    # get a specified matrix item\n",
    "    def getMatrixItem(self, x, y):\n",
    "        return self.matrix[x][y]\n",
    "\n",
    "    # set a specified matrix item to a value\n",
    "    def setMatrixItem(self, x, y, value):\n",
    "        self.matrix[x][y] = value\n",
    "\n",
    "# end of setters, getters\n",
    "\n",
    "\n",
    "    def rescale(self, line = -1):\n",
    "        \"\"\" Rescale the whole matrix, or one of the rows.\"\"\"\n",
    "\n",
    "        if line == -1:\n",
    "            # we rescale the whole matrix\n",
    "            for act in self.matrix:\n",
    "                # get the minimum value of the current row and add a small value to it\n",
    "                minimum = abs(min(act)) + MINFLOAT\n",
    "                # add this to every element in the act. row\n",
    "                for i in range(1,len(act)-1):\n",
    "                    if not act[i] == 0.0:\n",
    "                        act[i] = act[i] + minimum\n",
    "                # get the total value in the row...\n",
    "                summa = sum(act)\n",
    "                # and divide every element by this total value\n",
    "                for i in range(1,len(act)-1):\n",
    "                    act[i] = act[i]/summa\n",
    "        else:\n",
    "            # we rescale a row\n",
    "            act = self.matrix[line]\n",
    "            # get the minimum value of the row and add a small value to it\n",
    "            minimum = abs(min(act)) + MINFLOAT\n",
    "            # add this to every element in the row\n",
    "            for i in range(1,len(act)-1):\n",
    "                if not act[i] == 0.0:\n",
    "                    act[i] = act[i] + minimum\n",
    "            # get the total value in the row...\n",
    "            summa = sum(act)\n",
    "            # and divide every element by this total value\n",
    "            for i in range(1,len(act)-1):\n",
    "                act[i] = act[i]/summa\n",
    "\n",
    "\n",
    "    # log the matrix in a useable form\n",
    "    def logMatrix(self, logFileName):\n",
    "        \"\"\" Log the values of the matrix to the specified file.\"\"\"\n",
    "\n",
    "        try:\n",
    "            logFile = open(logFileName, 'w')\n",
    "        except:\n",
    "            print \"Can't write to\", logFileName, \"!\"\n",
    "            raise\n",
    "        logFile.write(\"x; y; value\\n\")\n",
    "        for i in range(0, len(self.matrix)):\n",
    "            for j in range(0, len(self.matrix[i])):\n",
    "                logFile.write(str(i) + '; ' + str(j) + '; ' + str(self.matrix[i][j]) + '\\n')\n",
    "        logFile.close()\n"
   ]
  },
  {
   "cell_type": "code",
   "execution_count": 176,
   "metadata": {},
   "outputs": [],
   "source": [
    "class NProbMat(object):\n",
    "\n",
    "    def __init__(self, x=5, y=8):\n",
    "        self.init_mat(x, y)\n",
    "        \n",
    "    def init_mat(self, x, y):\n",
    "        matrix = np.ones((y, x+2))\n",
    "        matrix[:, 0] = 0.\n",
    "        matrix[:, -1] = 0.\n",
    "        for row, width in enumerate(range(1, x, 2)):\n",
    "            matrix[row, 0:(x+2 - width) / 2] = 0.\n",
    "            matrix[row, (x+2 - width) / 2 + width:-1] = 0.\n",
    "        \n",
    "        self.matrix = self.scale(matrix)\n",
    "\n",
    "    def scale(self, matrix):\n",
    "        if len(matrix.shape) == 1:\n",
    "            matrix = matrix.reshape(1, len(matrix))\n",
    "        sums = matrix.sum(axis=1)[:, np.newaxis]\n",
    "        return matrix / sums\n",
    "    \n",
    "    def scale_line(self, line):\n",
    "        line = self.matrix[line, :]\n",
    "        line = self.scale(line)\n",
    "        return self\n",
    "    \n",
    "    def export(self, filename):\n",
    "        np.save(filename, self.matrix)\n",
    "        \n",
    "    def __str__(self):\n",
    "        return str(self.matrix)\n",
    "    \n",
    "    def __repr__(self):\n",
    "        return repr(self.matrix)\n",
    "    \n",
    "    def __getitem__(self, attr):\n",
    "        return self.matrix.__getitem__(attr)"
   ]
  },
  {
   "cell_type": "code",
   "execution_count": 177,
   "metadata": {},
   "outputs": [],
   "source": [
    "m = NProbMat()"
   ]
  },
  {
   "cell_type": "code",
   "execution_count": 181,
   "metadata": {},
   "outputs": [
    {
     "data": {
      "text/plain": [
       "array([ 0. ,  0. ,  0.2,  0.2,  0.2,  0.2,  0.2,  0.2])"
      ]
     },
     "execution_count": 181,
     "metadata": {},
     "output_type": "execute_result"
    }
   ],
   "source": [
    "m[:, 1]"
   ]
  },
  {
   "cell_type": "code",
   "execution_count": 145,
   "metadata": {},
   "outputs": [
    {
     "ename": "TypeError",
     "evalue": "__str__ returned non-string (type numpy.ndarray)",
     "output_type": "error",
     "traceback": [
      "\u001b[1;31m---------------------------------------------------------------------------\u001b[0m",
      "\u001b[1;31mTypeError\u001b[0m                                 Traceback (most recent call last)",
      "\u001b[1;32m<ipython-input-145-87839387bb96>\u001b[0m in \u001b[0;36m<module>\u001b[1;34m()\u001b[0m\n\u001b[1;32m----> 1\u001b[1;33m \u001b[1;32mprint\u001b[0m \u001b[0mm\u001b[0m\u001b[1;33m\u001b[0m\u001b[0m\n\u001b[0m",
      "\u001b[1;31mTypeError\u001b[0m: __str__ returned non-string (type numpy.ndarray)"
     ]
    }
   ],
   "source": [
    "print m"
   ]
  },
  {
   "cell_type": "code",
   "execution_count": 124,
   "metadata": {},
   "outputs": [
    {
     "data": {
      "text/plain": [
       "array([ 0.        ,  0.        ,  0.33333333,  0.33333333,  0.33333333,\n",
       "        0.        ,  0.        ])"
      ]
     },
     "execution_count": 124,
     "metadata": {},
     "output_type": "execute_result"
    }
   ],
   "source": [
    "matrix.matrix[1, :]"
   ]
  },
  {
   "cell_type": "code",
   "execution_count": 105,
   "metadata": {
    "collapsed": true
   },
   "outputs": [],
   "source": [
    "def weighted_choice_sub(weights):\n",
    "    rnd = random.random() * sum(weights)\n",
    "    for i, w in enumerate(weights):\n",
    "        rnd -= w\n",
    "        if rnd < 0:\n",
    "            return i"
   ]
  },
  {
   "cell_type": "code",
   "execution_count": null,
   "metadata": {
    "collapsed": true
   },
   "outputs": [],
   "source": [
    "np.random.choice(array, p=probabilities)"
   ]
  },
  {
   "cell_type": "code",
   "execution_count": 94,
   "metadata": {
    "collapsed": true
   },
   "outputs": [],
   "source": [
    "np.save('tmp.npy', mymat.matrix)"
   ]
  },
  {
   "cell_type": "code",
   "execution_count": 117,
   "metadata": {},
   "outputs": [
    {
     "data": {
      "text/plain": [
       "array([[ 0.        ,  0.        ,  0.33333333,  0.33333333,  0.33333333,\n",
       "         0.        ,  0.        ]])"
      ]
     },
     "execution_count": 117,
     "metadata": {},
     "output_type": "execute_result"
    }
   ],
   "source": [
    "line = mymat.matrix[1, :]\n",
    "line.reshape((1, len(line)))"
   ]
  },
  {
   "cell_type": "code",
   "execution_count": 118,
   "metadata": {
    "collapsed": true
   },
   "outputs": [],
   "source": [
    "mymat.matrix[1, :] = line.reshape((1, len(line)))"
   ]
  },
  {
   "cell_type": "code",
   "execution_count": 119,
   "metadata": {},
   "outputs": [
    {
     "data": {
      "text/plain": [
       "array([[ 0.        ,  0.        ,  0.        ,  1.        ,  0.        ,\n",
       "         0.        ,  0.        ],\n",
       "       [ 0.        ,  0.        ,  0.33333333,  0.33333333,  0.33333333,\n",
       "         0.        ,  0.        ],\n",
       "       [ 0.        ,  0.2       ,  0.2       ,  0.2       ,  0.2       ,\n",
       "         0.2       ,  0.        ],\n",
       "       [ 0.        ,  0.2       ,  0.2       ,  0.2       ,  0.2       ,\n",
       "         0.2       ,  0.        ],\n",
       "       [ 0.        ,  0.2       ,  0.2       ,  0.2       ,  0.2       ,\n",
       "         0.2       ,  0.        ],\n",
       "       [ 0.        ,  0.2       ,  0.2       ,  0.2       ,  0.2       ,\n",
       "         0.2       ,  0.        ],\n",
       "       [ 0.        ,  0.2       ,  0.2       ,  0.2       ,  0.2       ,\n",
       "         0.2       ,  0.        ],\n",
       "       [ 0.        ,  0.2       ,  0.2       ,  0.2       ,  0.2       ,\n",
       "         0.2       ,  0.        ]])"
      ]
     },
     "execution_count": 119,
     "metadata": {},
     "output_type": "execute_result"
    }
   ],
   "source": [
    "mymat.matrix"
   ]
  },
  {
   "cell_type": "code",
   "execution_count": 114,
   "metadata": {},
   "outputs": [
    {
     "data": {
      "text/plain": [
       "1"
      ]
     },
     "execution_count": 114,
     "metadata": {},
     "output_type": "execute_result"
    }
   ],
   "source": [
    "len(mymat.matrix[1, :].shape)"
   ]
  },
  {
   "cell_type": "code",
   "execution_count": 76,
   "metadata": {},
   "outputs": [],
   "source": [
    "mymat = MyMat()"
   ]
  },
  {
   "cell_type": "code",
   "execution_count": 20,
   "metadata": {},
   "outputs": [],
   "source": [
    "probmat = ProbMat()"
   ]
  },
  {
   "cell_type": "code",
   "execution_count": 21,
   "metadata": {},
   "outputs": [
    {
     "data": {
      "text/plain": [
       "[[0.0, 0.0, 0.0, 1.0, 0.0, 0.0, 0.0],\n",
       " [0.0, 0.0, 0.3, 0.3, 0.3, 0.0, 0.0],\n",
       " [0.0, 0.2, 0.2, 0.2, 0.2, 0.2, 0.0],\n",
       " [0.0, 0.2, 0.2, 0.2, 0.2, 0.2, 0.0],\n",
       " [0.0, 0.2, 0.2, 0.2, 0.2, 0.2, 0.0],\n",
       " [0.0, 0.2, 0.2, 0.2, 0.2, 0.2, 0.0],\n",
       " [0.0, 0.2, 0.2, 0.2, 0.2, 0.2, 0.0],\n",
       " [0.0, 0.2, 0.2, 0.2, 0.2, 0.2, 0.0]]"
      ]
     },
     "execution_count": 21,
     "metadata": {},
     "output_type": "execute_result"
    }
   ],
   "source": [
    "probmat.matrix"
   ]
  },
  {
   "cell_type": "code",
   "execution_count": 22,
   "metadata": {},
   "outputs": [
    {
     "data": {
      "text/plain": [
       "array([[ 1.,  1.,  1.,  1.,  1.,  1.,  1.],\n",
       "       [ 1.,  1.,  1.,  1.,  1.,  1.,  1.],\n",
       "       [ 1.,  1.,  1.,  1.,  1.,  1.,  1.],\n",
       "       [ 1.,  1.,  1.,  1.,  1.,  1.,  1.],\n",
       "       [ 1.,  1.,  1.,  1.,  1.,  1.,  1.],\n",
       "       [ 1.,  1.,  1.,  1.,  1.,  1.,  1.],\n",
       "       [ 1.,  1.,  1.,  1.,  1.,  1.,  1.],\n",
       "       [ 1.,  1.,  1.,  1.,  1.,  1.,  1.]])"
      ]
     },
     "execution_count": 22,
     "metadata": {},
     "output_type": "execute_result"
    }
   ],
   "source": [
    "mymat.matrix"
   ]
  },
  {
   "cell_type": "code",
   "execution_count": 8,
   "metadata": {},
   "outputs": [
    {
     "data": {
      "text/plain": [
       "array([[ 0.,  0.,  0.,  0.,  0.,  0.,  0.],\n",
       "       [ 0.,  0.,  0.,  0.,  0.,  0.,  0.],\n",
       "       [ 0.,  0.,  0.,  0.,  0.,  0.,  0.],\n",
       "       [ 0.,  0.,  0.,  0.,  0.,  0.,  0.],\n",
       "       [ 0.,  0.,  0.,  0.,  0.,  0.,  0.],\n",
       "       [ 0.,  0.,  0.,  0.,  0.,  0.,  0.],\n",
       "       [ 0.,  0.,  0.,  0.,  0.,  0.,  0.],\n",
       "       [ 0.,  0.,  0.,  0.,  0.,  0.,  0.]])"
      ]
     },
     "execution_count": 8,
     "metadata": {},
     "output_type": "execute_result"
    }
   ],
   "source": [
    "np.array([[0.0 for col in range(5+2)] for row in range(8)])"
   ]
  },
  {
   "cell_type": "code",
   "execution_count": null,
   "metadata": {
    "collapsed": true
   },
   "outputs": [],
   "source": []
  }
 ],
 "metadata": {
  "kernelspec": {
   "display_name": "Python 2",
   "language": "python",
   "name": "python2"
  },
  "language_info": {
   "codemirror_mode": {
    "name": "ipython",
    "version": 2
   },
   "file_extension": ".py",
   "mimetype": "text/x-python",
   "name": "python",
   "nbconvert_exporter": "python",
   "pygments_lexer": "ipython2",
   "version": "2.7.13"
  }
 },
 "nbformat": 4,
 "nbformat_minor": 2
}
